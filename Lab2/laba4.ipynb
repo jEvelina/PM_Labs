{
 "cells": [
  {
   "cell_type": "markdown",
   "metadata": {},
   "source": [
    "Info about dataset\n",
    "\n",
    "This dataset is created for beginner students of Data Analysis who can explore the field with real-life data. Using TED talk data will help them to analyze the talks and they can also watch the talks of their favorite author with the help of the dataset as well. The data has been scraped from the official TED Youtube channel and is available under the Creative Commons License.\n",
    "\n",
    "This dataset contains 9 different features of each talk available on TED's youtube channel which you can find below\n",
    "\n",
    "video_link - The youtube link of the video\n",
    "thumbnail_link - The youtube thumbnail link of the video\n",
    "duration - Duration of the video\n",
    "title - Title of the video\n",
    "views - Number of views on that video\n",
    "likes - Number of likes on that video\n",
    "comments - Number of comments on that video\n",
    "date - Date of the video published on youtube\n",
    "description - Video Description"
   ]
  },
  {
   "cell_type": "markdown",
   "metadata": {},
   "source": [
    "STEP 1 \n",
    "\n",
    "First of all let`s look on our data in the table format. It helps to understand the structure of our data.\n"
   ]
  },
  {
   "cell_type": "code",
   "execution_count": 2,
   "metadata": {},
   "outputs": [
    {
     "data": {
      "text/html": [
       "<div>\n",
       "<style scoped>\n",
       "    .dataframe tbody tr th:only-of-type {\n",
       "        vertical-align: middle;\n",
       "    }\n",
       "\n",
       "    .dataframe tbody tr th {\n",
       "        vertical-align: top;\n",
       "    }\n",
       "\n",
       "    .dataframe thead th {\n",
       "        text-align: right;\n",
       "    }\n",
       "</style>\n",
       "<table border=\"1\" class=\"dataframe\">\n",
       "  <thead>\n",
       "    <tr style=\"text-align: right;\">\n",
       "      <th></th>\n",
       "      <th>video_link</th>\n",
       "      <th>thumbnail_link</th>\n",
       "      <th>duration</th>\n",
       "      <th>title</th>\n",
       "      <th>views</th>\n",
       "      <th>likes</th>\n",
       "      <th>comments</th>\n",
       "      <th>date</th>\n",
       "      <th>description</th>\n",
       "    </tr>\n",
       "  </thead>\n",
       "  <tbody>\n",
       "    <tr>\n",
       "      <th>0</th>\n",
       "      <td>https://www.youtube.com//watch?v=B5smctuV7-Q</td>\n",
       "      <td>https://i.ytimg.com/vi/B5smctuV7-Q/hqdefault.jpg</td>\n",
       "      <td>14 minutes, 48 seconds</td>\n",
       "      <td>We Can Make COVID-19 the Last Pandemic | Bill ...</td>\n",
       "      <td>208,480</td>\n",
       "      <td>Like</td>\n",
       "      <td>NaN</td>\n",
       "      <td>22 Apr 2022</td>\n",
       "      <td>Building a pandemic-free future won’t be easy,...</td>\n",
       "    </tr>\n",
       "    <tr>\n",
       "      <th>1</th>\n",
       "      <td>https://www.youtube.com//watch?v=FrqBWQ-mVEc</td>\n",
       "      <td>https://i.ytimg.com/vi/FrqBWQ-mVEc/hqdefault.jpg</td>\n",
       "      <td>9 minutes, 53 seconds</td>\n",
       "      <td>The Future Will Be Shaped by Optimists | Kevin...</td>\n",
       "      <td>51,273</td>\n",
       "      <td>1.9K</td>\n",
       "      <td>262</td>\n",
       "      <td>21 Apr 2022</td>\n",
       "      <td>\"Every great and difficult thing has required ...</td>\n",
       "    </tr>\n",
       "    <tr>\n",
       "      <th>2</th>\n",
       "      <td>https://www.youtube.com//watch?v=iIne-UO7wUo</td>\n",
       "      <td>https://i.ytimg.com/vi/iIne-UO7wUo/hqdefault.jpg</td>\n",
       "      <td>9 minutes, 18 seconds</td>\n",
       "      <td>An Olympic Champion’s Unwavering Advocacy for ...</td>\n",
       "      <td>25,597</td>\n",
       "      <td>Like</td>\n",
       "      <td>53</td>\n",
       "      <td>20 Apr 2022</td>\n",
       "      <td>Getting pregnant as a track and field athlete ...</td>\n",
       "    </tr>\n",
       "    <tr>\n",
       "      <th>3</th>\n",
       "      <td>https://www.youtube.com//watch?v=5T2VRY0LECc</td>\n",
       "      <td>https://i.ytimg.com/vi/5T2VRY0LECc/hqdefault.jpg</td>\n",
       "      <td>6 minutes, 56 seconds</td>\n",
       "      <td>The African Swamp Protecting Earth's Environme...</td>\n",
       "      <td>21,430</td>\n",
       "      <td>633</td>\n",
       "      <td>40</td>\n",
       "      <td>20 Apr 2022</td>\n",
       "      <td>The peatlands of Africa's Congo Basin are a va...</td>\n",
       "    </tr>\n",
       "    <tr>\n",
       "      <th>4</th>\n",
       "      <td>https://www.youtube.com//watch?v=YRvf00NooN8</td>\n",
       "      <td>https://i.ytimg.com/vi/YRvf00NooN8/hqdefault.jpg</td>\n",
       "      <td>1 hour, 6 minutes, 25 seconds</td>\n",
       "      <td>Elon Musk: A future worth getting excited abou...</td>\n",
       "      <td>3,609,893</td>\n",
       "      <td>95K</td>\n",
       "      <td>8,757</td>\n",
       "      <td>18 Apr 2022</td>\n",
       "      <td>What's on Elon Musk's mind? In this exclusive ...</td>\n",
       "    </tr>\n",
       "  </tbody>\n",
       "</table>\n",
       "</div>"
      ],
      "text/plain": [
       "                                     video_link  \\\n",
       "0  https://www.youtube.com//watch?v=B5smctuV7-Q   \n",
       "1  https://www.youtube.com//watch?v=FrqBWQ-mVEc   \n",
       "2  https://www.youtube.com//watch?v=iIne-UO7wUo   \n",
       "3  https://www.youtube.com//watch?v=5T2VRY0LECc   \n",
       "4  https://www.youtube.com//watch?v=YRvf00NooN8   \n",
       "\n",
       "                                     thumbnail_link  \\\n",
       "0  https://i.ytimg.com/vi/B5smctuV7-Q/hqdefault.jpg   \n",
       "1  https://i.ytimg.com/vi/FrqBWQ-mVEc/hqdefault.jpg   \n",
       "2  https://i.ytimg.com/vi/iIne-UO7wUo/hqdefault.jpg   \n",
       "3  https://i.ytimg.com/vi/5T2VRY0LECc/hqdefault.jpg   \n",
       "4  https://i.ytimg.com/vi/YRvf00NooN8/hqdefault.jpg   \n",
       "\n",
       "                        duration  \\\n",
       "0         14 minutes, 48 seconds   \n",
       "1          9 minutes, 53 seconds   \n",
       "2          9 minutes, 18 seconds   \n",
       "3          6 minutes, 56 seconds   \n",
       "4  1 hour, 6 minutes, 25 seconds   \n",
       "\n",
       "                                               title      views likes  \\\n",
       "0  We Can Make COVID-19 the Last Pandemic | Bill ...    208,480  Like   \n",
       "1  The Future Will Be Shaped by Optimists | Kevin...     51,273  1.9K   \n",
       "2  An Olympic Champion’s Unwavering Advocacy for ...     25,597  Like   \n",
       "3  The African Swamp Protecting Earth's Environme...     21,430   633   \n",
       "4  Elon Musk: A future worth getting excited abou...  3,609,893   95K   \n",
       "\n",
       "  comments         date                                        description  \n",
       "0      NaN  22 Apr 2022  Building a pandemic-free future won’t be easy,...  \n",
       "1      262  21 Apr 2022  \"Every great and difficult thing has required ...  \n",
       "2       53  20 Apr 2022  Getting pregnant as a track and field athlete ...  \n",
       "3       40  20 Apr 2022  The peatlands of Africa's Congo Basin are a va...  \n",
       "4    8,757  18 Apr 2022  What's on Elon Musk's mind? In this exclusive ...  "
      ]
     },
     "execution_count": 2,
     "metadata": {},
     "output_type": "execute_result"
    }
   ],
   "source": [
    "import pandas as pd\n",
    "\n",
    "df = pd.read_csv(r'C:\\Users\\admin\\Desktop\\Ted.csv')\n",
    "df.head()"
   ]
  },
  {
   "cell_type": "markdown",
   "metadata": {},
   "source": [
    "STEP2\n",
    "\n",
    "Let`s create top 10 Ted-videos sorting by views with its tittles."
   ]
  },
  {
   "cell_type": "code",
   "execution_count": 5,
   "metadata": {},
   "outputs": [
    {
     "name": "stdout",
     "output_type": "stream",
     "text": [
      "          views                                              title\n",
      "3505  1,013,188           Smash fear, learn anything | Tim Ferriss\n",
      "2095  1,014,101  How we teach computers to understand pictures ...\n",
      "2985  1,014,973  Rajesh Rao: Computing a Rosetta Stone for the ...\n",
      "1932  1,015,950  Alzheimer’s Is Not Normal Aging — And We Can C...\n",
      "2329  1,017,756                 Why I must come out | Geena Rocero\n",
      "3320  1,021,183  The world needs all kinds of minds | Temple Gr...\n",
      "1683  1,026,618  Inside the mind of a former radical jihadist |...\n",
      "1489  1,026,929  How computers learn to recognize objects insta...\n",
      "1904  1,036,436  This Is What LGBT Life Is Like Around the Worl...\n",
      "893   1,038,422  Facebook's role in Brexit — and the threat to ...\n"
     ]
    }
   ],
   "source": [
    "top10 = df.sort_values(by='views')\n",
    "top10 = top10[['views','title']][:10]\n",
    "print(top10)"
   ]
  }
 ],
 "metadata": {
  "interpreter": {
   "hash": "610a6f344c2137faf927ea819c63f6cee33a2c04455044b28099f39fe9722347"
  },
  "kernelspec": {
   "display_name": "Python 3.9.7 ('base')",
   "language": "python",
   "name": "python3"
  },
  "language_info": {
   "codemirror_mode": {
    "name": "ipython",
    "version": 3
   },
   "file_extension": ".py",
   "mimetype": "text/x-python",
   "name": "python",
   "nbconvert_exporter": "python",
   "pygments_lexer": "ipython3",
   "version": "3.9.7"
  },
  "orig_nbformat": 4
 },
 "nbformat": 4,
 "nbformat_minor": 2
}
