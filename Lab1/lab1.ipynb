{
 "cells": [
  {
   "cell_type": "code",
   "execution_count": null,
   "metadata": {},
   "outputs": [],
   "source": [
    "#start lab1"
   ]
  },
  {
   "cell_type": "code",
   "execution_count": 50,
   "metadata": {},
   "outputs": [
    {
     "name": "stdout",
     "output_type": "stream",
     "text": [
      "(24, 'abc', 21)\n",
      "12 Rules for Life\n",
      "['abc', 5, 'qwerty', 7]\n"
     ]
    }
   ],
   "source": [
    "#create tuple\n",
    "x = (24, 'abc', 21)\n",
    "print(x)\n",
    "\n",
    "#create dictionary\n",
    "dictionary = {'book': '12 Rules for Life', 'author': 'Jordan B Peterson'}\n",
    "print(dictionary['book'])\n",
    "\n",
    "#create arbitrary list\n",
    "y = ['abc', 5, 'qwerty', 7]\n",
    "print(y)\n"
   ]
  },
  {
   "cell_type": "code",
   "execution_count": 82,
   "metadata": {},
   "outputs": [
    {
     "name": "stdout",
     "output_type": "stream",
     "text": [
      "[0.09051348869359402, 1.202215542973796, 0.11598158753921423, 0.49366387858773636, 0.4514884870803629, 0.3523515737924592, 1.654695386635074, 0.9205869984973727, 1.8792290056061554, 1.7132783565251568, 0.36199701539737494, 0.5797890838974928, 1.467519708118385, 0.9202284111931129, 0.5828228183411508, 1.119252958639123, 0.4777139408242785, 1.2227012057882822, 0.7607591890913414, 0.15055264084889358, 0.7988603674328958, 0.2705367725275816, 0.2228704276342824, 0.4231473614158348, 0.5432543928817735, 0.904004213385813, 0.9618966616866774, 0.8534567851212118, 1.8252357337032696, 0.6000339500543552, 0.0942041671426383, 0.44301044421613756, 1.376985948462974, 0.15685802476942684, 0.4490530676348235, 0.10828893907870475, 1.3452231085574586, 1.0280051155944758, 0.7882839709045807, 1.6551193732793987, 1.3891827226077709, 1.6286269859460192, 2.155760047349155, 1.7370838177801673]\n",
      "[ 0.45148849  0.35235157  1.65469539 -1.86776641  0.920587   -0.25694849\n",
      " -0.45857906 -1.41166348 -1.89823838 -0.88800743]\n",
      "0.4514884870803629\n"
     ]
    }
   ],
   "source": [
    "import numpy as np\n",
    "s = np.random.normal(0,1,100)\n",
    "list = [item for item in s if item > 0]\n",
    "\n",
    "print(list)\n",
    "print(s[10:20])\n",
    "print(s[10])"
   ]
  },
  {
   "cell_type": "code",
   "execution_count": 2,
   "metadata": {},
   "outputs": [
    {
     "data": {
      "text/plain": [
       "923521"
      ]
     },
     "execution_count": 2,
     "metadata": {},
     "output_type": "execute_result"
    }
   ],
   "source": [
    "q = 31\n",
    "q**4"
   ]
  },
  {
   "cell_type": "code",
   "execution_count": 83,
   "metadata": {},
   "outputs": [
    {
     "name": "stdout",
     "output_type": "stream",
     "text": [
      "power is too big\n"
     ]
    }
   ],
   "source": [
    "x = pow(4,3)\n",
    "if (x >= 50):\n",
    "    print ('power is too big')\n",
    "    \n"
   ]
  },
  {
   "cell_type": "code",
   "execution_count": 89,
   "metadata": {},
   "outputs": [
    {
     "name": "stdout",
     "output_type": "stream",
     "text": [
      "64\n"
     ]
    }
   ],
   "source": [
    "import numpy as np\n",
    "def my_ifelse(x, exp, n):\n",
    "    if exp == '<=':\n",
    "        return x[x<=n]\n",
    "    else: \n",
    "        return x\n",
    "print(x)\n"
   ]
  },
  {
   "cell_type": "code",
   "execution_count": 94,
   "metadata": {},
   "outputs": [
    {
     "name": "stdout",
     "output_type": "stream",
     "text": [
      "{'e': 2, 'n': 1, 'd': 1, 'l': 1, 's': 2}\n"
     ]
    }
   ],
   "source": [
    "def counter (input_string):\n",
    "    count_letters = {}\n",
    "    for letter in input_string:\n",
    "        if letter in count_letters:\n",
    "                count_letters[letter] += 1\n",
    "        else:\n",
    "            count_letters[letter] = 1\n",
    "    return count_letters\n",
    "print(counter('endless'))"
   ]
  },
  {
   "cell_type": "code",
   "execution_count": 105,
   "metadata": {},
   "outputs": [
    {
     "name": "stdout",
     "output_type": "stream",
     "text": [
      "[11, 12, 13, 14, 15, 16, 17, 18, 19, 20, 21, 22, 23, 24, 25, 26, 27, 28, 29]\n"
     ]
    }
   ],
   "source": [
    "import numpy as np\n",
    "y = np.arange(30)\n",
    "n = 10\n",
    "\n",
    "i = [x for x in y if x > n]\n",
    "print(i)"
   ]
  }
 ],
 "metadata": {
  "interpreter": {
   "hash": "610a6f344c2137faf927ea819c63f6cee33a2c04455044b28099f39fe9722347"
  },
  "kernelspec": {
   "display_name": "Python 3.9.7 ('base')",
   "language": "python",
   "name": "python3"
  },
  "language_info": {
   "codemirror_mode": {
    "name": "ipython",
    "version": 3
   },
   "file_extension": ".py",
   "mimetype": "text/x-python",
   "name": "python",
   "nbconvert_exporter": "python",
   "pygments_lexer": "ipython3",
   "version": "3.9.7"
  },
  "orig_nbformat": 4
 },
 "nbformat": 4,
 "nbformat_minor": 2
}
