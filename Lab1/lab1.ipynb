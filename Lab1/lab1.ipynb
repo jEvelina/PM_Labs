{
 "cells": [
  {
   "cell_type": "markdown",
   "metadata": {},
   "source": [
    "Exercise 0 - Example\n",
    "Assign the number 31 to a new variable, q. Write an expression that raises q to the 4th power"
   ]
  },
  {
   "cell_type": "code",
   "execution_count": 1,
   "metadata": {},
   "outputs": [
    {
     "data": {
      "text/plain": [
       "923521"
      ]
     },
     "execution_count": 1,
     "metadata": {},
     "output_type": "execute_result"
    }
   ],
   "source": [
    "q = 31\n",
    "q**4"
   ]
  },
  {
   "cell_type": "markdown",
   "metadata": {},
   "source": [
    "Exercise 1\n",
    "Create arbitrary list, tuple and dictionary and print them"
   ]
  },
  {
   "cell_type": "code",
   "execution_count": 50,
   "metadata": {},
   "outputs": [
    {
     "name": "stdout",
     "output_type": "stream",
     "text": [
      "(24, 'abc', 21)\n",
      "12 Rules for Life\n",
      "['abc', 5, 'qwerty', 7]\n"
     ]
    }
   ],
   "source": [
    "#create tuple\n",
    "x = (24, 'abc', 21)\n",
    "print(x)\n",
    "\n",
    "#create dictionary\n",
    "dictionary = {'book': '12 Rules for Life', 'author': 'Jordan B Peterson'}\n",
    "print(dictionary['book'])\n",
    "\n",
    "#create arbitrary list\n",
    "y = ['abc', 5, 'qwerty', 7]\n",
    "print(y)\n"
   ]
  },
  {
   "cell_type": "markdown",
   "metadata": {},
   "source": [
    "Exercise 2\n",
    "Print the next elements of array s: 10th, from 10 to 20, all elements more than 0"
   ]
  },
  {
   "cell_type": "code",
   "execution_count": 82,
   "metadata": {},
   "outputs": [
    {
     "name": "stdout",
     "output_type": "stream",
     "text": [
      "[0.09051348869359402, 1.202215542973796, 0.11598158753921423, 0.49366387858773636, 0.4514884870803629, 0.3523515737924592, 1.654695386635074, 0.9205869984973727, 1.8792290056061554, 1.7132783565251568, 0.36199701539737494, 0.5797890838974928, 1.467519708118385, 0.9202284111931129, 0.5828228183411508, 1.119252958639123, 0.4777139408242785, 1.2227012057882822, 0.7607591890913414, 0.15055264084889358, 0.7988603674328958, 0.2705367725275816, 0.2228704276342824, 0.4231473614158348, 0.5432543928817735, 0.904004213385813, 0.9618966616866774, 0.8534567851212118, 1.8252357337032696, 0.6000339500543552, 0.0942041671426383, 0.44301044421613756, 1.376985948462974, 0.15685802476942684, 0.4490530676348235, 0.10828893907870475, 1.3452231085574586, 1.0280051155944758, 0.7882839709045807, 1.6551193732793987, 1.3891827226077709, 1.6286269859460192, 2.155760047349155, 1.7370838177801673]\n",
      "[ 0.45148849  0.35235157  1.65469539 -1.86776641  0.920587   -0.25694849\n",
      " -0.45857906 -1.41166348 -1.89823838 -0.88800743]\n",
      "0.4514884870803629\n"
     ]
    }
   ],
   "source": [
    "import numpy as np\n",
    "s = np.random.normal(0,1,100)\n",
    "list = [item for item in s if item > 0]\n",
    "\n",
    "print(list)\n",
    "print(s[10:20])\n",
    "print(s[10])"
   ]
  },
  {
   "cell_type": "markdown",
   "metadata": {},
   "source": [
    "Exercise 3\n",
    "Make a function pow that raised base number to a fixed power power. If power >= 50 print message \"power is too big\" and return -1"
   ]
  },
  {
   "cell_type": "code",
   "execution_count": 1,
   "metadata": {},
   "outputs": [
    {
     "name": "stdout",
     "output_type": "stream",
     "text": [
      "power is too big\n"
     ]
    },
    {
     "data": {
      "text/plain": [
       "-1"
      ]
     },
     "execution_count": 1,
     "metadata": {},
     "output_type": "execute_result"
    }
   ],
   "source": [
    "def pow(x,n):\n",
    "    power = x**n\n",
    "    if power >= 50:\n",
    "        print('power is too big')\n",
    "        return(-1)\n",
    "pow(5,3)"
   ]
  },
  {
   "cell_type": "markdown",
   "metadata": {},
   "source": [
    "Exercise 4\n",
    "Make a function above(x,n) which returns all elements x > n. By default n = 10.   x argument is a numpy arrays\n",
    "\n"
   ]
  },
  {
   "cell_type": "code",
   "execution_count": 2,
   "metadata": {},
   "outputs": [
    {
     "name": "stdout",
     "output_type": "stream",
     "text": [
      "[11, 12, 13, 14, 15, 16, 17, 18, 19, 20, 21, 22, 23, 24, 25, 26, 27, 28, 29]\n"
     ]
    }
   ],
   "source": [
    "import numpy as np\n",
    "y = np.arange(30)\n",
    "n = 10\n",
    "\n",
    "i = [x for x in y if x > n]\n",
    "print(i)"
   ]
  },
  {
   "cell_type": "markdown",
   "metadata": {},
   "source": [
    "Exercise 5\n",
    "Write a function my_ifelse(x, exp, n) which test array x with expression exp to number n. For instance, my_ifelse(x,'>=',10) returns all elements of array x which greater or equal 10. exp can be <, >, <=, >=, ==. If exp dont match these expression array x is retured"
   ]
  },
  {
   "cell_type": "code",
   "execution_count": 8,
   "metadata": {},
   "outputs": [
    {
     "name": "stdout",
     "output_type": "stream",
     "text": [
      "[-165.2457879    16.5803404   102.60139209  -55.89700726  -29.13732365\n",
      " -101.43100194    5.90014928   75.25951704 -212.20000472 -143.3982347 ]\n",
      "[-165.2457879   -55.89700726  -29.13732365 -101.43100194    5.90014928\n",
      " -212.20000472 -143.3982347 ]\n"
     ]
    }
   ],
   "source": [
    "import numpy as np\n",
    "x=np.random.normal(0,100,10)\n",
    "print(x)\n",
    "def my_ifelse(x, exp, n):\n",
    "    if exp == '<=':\n",
    "        print(x[x<=n])\n",
    "    else: \n",
    "        print(x)\n",
    "my_ifelse(x, '<=',10)\n"
   ]
  },
  {
   "cell_type": "markdown",
   "metadata": {},
   "source": [
    "Exercise 6\n",
    "Make a function called counter that takes a string input_string and returns a dictionary of letter counts."
   ]
  },
  {
   "cell_type": "code",
   "execution_count": 25,
   "metadata": {},
   "outputs": [
    {
     "name": "stdout",
     "output_type": "stream",
     "text": [
      "{'e': 2, 'n': 1, 'd': 1, 'l': 1, 's': 2}\n"
     ]
    }
   ],
   "source": [
    "def counter (input_string):\n",
    "    count_letters = {}\n",
    "    for letter in input_string:\n",
    "        if letter in count_letters:\n",
    "                count_letters[letter] += 1\n",
    "        else:\n",
    "            count_letters[letter] = 1\n",
    "    return count_letters\n",
    "print(counter('endless'))"
   ]
  },
  {
   "cell_type": "markdown",
   "metadata": {},
   "source": [
    "Exercise 7\n",
    "From the function counter make function counter_sorted with second boolean argumens reverse that returns sorted letter counts. Order depends of the reverse argument. By default reverse = False"
   ]
  },
  {
   "cell_type": "code",
   "execution_count": 30,
   "metadata": {},
   "outputs": [
    {
     "name": "stdout",
     "output_type": "stream",
     "text": [
      "n 1\n",
      "d 1\n",
      "l 1\n",
      "e 2\n",
      "s 2\n"
     ]
    }
   ],
   "source": [
    "count_letters = (counter('endless'))\n",
    "counter_sorted = sorted(count_letters.items(), key=lambda x: x[1], reverse=False)\n",
    "for letter in counter_sorted:\n",
    "    print(letter[0], letter[1])"
   ]
  }
 ],
 "metadata": {
  "interpreter": {
   "hash": "610a6f344c2137faf927ea819c63f6cee33a2c04455044b28099f39fe9722347"
  },
  "kernelspec": {
   "display_name": "Python 3.9.7 ('base')",
   "language": "python",
   "name": "python3"
  },
  "language_info": {
   "codemirror_mode": {
    "name": "ipython",
    "version": 3
   },
   "file_extension": ".py",
   "mimetype": "text/x-python",
   "name": "python",
   "nbconvert_exporter": "python",
   "pygments_lexer": "ipython3",
   "version": "3.9.7"
  },
  "orig_nbformat": 4
 },
 "nbformat": 4,
 "nbformat_minor": 2
}
